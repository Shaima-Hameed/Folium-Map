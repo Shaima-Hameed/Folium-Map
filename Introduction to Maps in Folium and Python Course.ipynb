{
 "cells": [
  {
   "cell_type": "code",
   "execution_count": 1,
   "metadata": {},
   "outputs": [],
   "source": [
    "import folium\n",
    "import pandas as pd"
   ]
  },
  {
   "cell_type": "code",
   "execution_count": 2,
   "metadata": {},
   "outputs": [
    {
     "ename": "FileNotFoundError",
     "evalue": "[Errno 2] No such file or directory: 'C:\\\\Users\\\\Edwin\\\\Downloads\\\\waterwatch_clean2.xlsx'",
     "output_type": "error",
     "traceback": [
      "\u001b[1;31m---------------------------------------------------------------------------\u001b[0m",
      "\u001b[1;31mFileNotFoundError\u001b[0m                         Traceback (most recent call last)",
      "Cell \u001b[1;32mIn[2], line 1\u001b[0m\n\u001b[1;32m----> 1\u001b[0m df_suburbs \u001b[38;5;241m=\u001b[39m \u001b[43mpd\u001b[49m\u001b[38;5;241;43m.\u001b[39;49m\u001b[43mread_excel\u001b[49m\u001b[43m(\u001b[49m\u001b[38;5;124;43m'\u001b[39;49m\u001b[38;5;124;43mC:\u001b[39;49m\u001b[38;5;130;43;01m\\\\\u001b[39;49;00m\u001b[38;5;124;43mUsers\u001b[39;49m\u001b[38;5;130;43;01m\\\\\u001b[39;49;00m\u001b[38;5;124;43mEdwin\u001b[39;49m\u001b[38;5;130;43;01m\\\\\u001b[39;49;00m\u001b[38;5;124;43mDownloads\u001b[39;49m\u001b[38;5;130;43;01m\\\\\u001b[39;49;00m\u001b[38;5;124;43mwaterwatch_clean2.xlsx\u001b[39;49m\u001b[38;5;124;43m'\u001b[39;49m\u001b[43m,\u001b[49m\u001b[43m \u001b[49m\u001b[43msheet_name\u001b[49m\u001b[38;5;241;43m=\u001b[39;49m\u001b[38;5;124;43m'\u001b[39;49m\u001b[38;5;124;43mSheet1\u001b[39;49m\u001b[38;5;124;43m'\u001b[39;49m\u001b[43m)\u001b[49m\n\u001b[0;32m      3\u001b[0m df_suburbs\u001b[38;5;241m.\u001b[39mhead()\n",
      "File \u001b[1;32m~\\anaconda3\\lib\\site-packages\\pandas\\util\\_decorators.py:211\u001b[0m, in \u001b[0;36mdeprecate_kwarg.<locals>._deprecate_kwarg.<locals>.wrapper\u001b[1;34m(*args, **kwargs)\u001b[0m\n\u001b[0;32m    209\u001b[0m     \u001b[38;5;28;01melse\u001b[39;00m:\n\u001b[0;32m    210\u001b[0m         kwargs[new_arg_name] \u001b[38;5;241m=\u001b[39m new_arg_value\n\u001b[1;32m--> 211\u001b[0m \u001b[38;5;28;01mreturn\u001b[39;00m func(\u001b[38;5;241m*\u001b[39margs, \u001b[38;5;241m*\u001b[39m\u001b[38;5;241m*\u001b[39mkwargs)\n",
      "File \u001b[1;32m~\\anaconda3\\lib\\site-packages\\pandas\\util\\_decorators.py:331\u001b[0m, in \u001b[0;36mdeprecate_nonkeyword_arguments.<locals>.decorate.<locals>.wrapper\u001b[1;34m(*args, **kwargs)\u001b[0m\n\u001b[0;32m    325\u001b[0m \u001b[38;5;28;01mif\u001b[39;00m \u001b[38;5;28mlen\u001b[39m(args) \u001b[38;5;241m>\u001b[39m num_allow_args:\n\u001b[0;32m    326\u001b[0m     warnings\u001b[38;5;241m.\u001b[39mwarn(\n\u001b[0;32m    327\u001b[0m         msg\u001b[38;5;241m.\u001b[39mformat(arguments\u001b[38;5;241m=\u001b[39m_format_argument_list(allow_args)),\n\u001b[0;32m    328\u001b[0m         \u001b[38;5;167;01mFutureWarning\u001b[39;00m,\n\u001b[0;32m    329\u001b[0m         stacklevel\u001b[38;5;241m=\u001b[39mfind_stack_level(),\n\u001b[0;32m    330\u001b[0m     )\n\u001b[1;32m--> 331\u001b[0m \u001b[38;5;28;01mreturn\u001b[39;00m func(\u001b[38;5;241m*\u001b[39margs, \u001b[38;5;241m*\u001b[39m\u001b[38;5;241m*\u001b[39mkwargs)\n",
      "File \u001b[1;32m~\\anaconda3\\lib\\site-packages\\pandas\\io\\excel\\_base.py:482\u001b[0m, in \u001b[0;36mread_excel\u001b[1;34m(io, sheet_name, header, names, index_col, usecols, squeeze, dtype, engine, converters, true_values, false_values, skiprows, nrows, na_values, keep_default_na, na_filter, verbose, parse_dates, date_parser, thousands, decimal, comment, skipfooter, convert_float, mangle_dupe_cols, storage_options)\u001b[0m\n\u001b[0;32m    480\u001b[0m \u001b[38;5;28;01mif\u001b[39;00m \u001b[38;5;129;01mnot\u001b[39;00m \u001b[38;5;28misinstance\u001b[39m(io, ExcelFile):\n\u001b[0;32m    481\u001b[0m     should_close \u001b[38;5;241m=\u001b[39m \u001b[38;5;28;01mTrue\u001b[39;00m\n\u001b[1;32m--> 482\u001b[0m     io \u001b[38;5;241m=\u001b[39m \u001b[43mExcelFile\u001b[49m\u001b[43m(\u001b[49m\u001b[43mio\u001b[49m\u001b[43m,\u001b[49m\u001b[43m \u001b[49m\u001b[43mstorage_options\u001b[49m\u001b[38;5;241;43m=\u001b[39;49m\u001b[43mstorage_options\u001b[49m\u001b[43m,\u001b[49m\u001b[43m \u001b[49m\u001b[43mengine\u001b[49m\u001b[38;5;241;43m=\u001b[39;49m\u001b[43mengine\u001b[49m\u001b[43m)\u001b[49m\n\u001b[0;32m    483\u001b[0m \u001b[38;5;28;01melif\u001b[39;00m engine \u001b[38;5;129;01mand\u001b[39;00m engine \u001b[38;5;241m!=\u001b[39m io\u001b[38;5;241m.\u001b[39mengine:\n\u001b[0;32m    484\u001b[0m     \u001b[38;5;28;01mraise\u001b[39;00m \u001b[38;5;167;01mValueError\u001b[39;00m(\n\u001b[0;32m    485\u001b[0m         \u001b[38;5;124m\"\u001b[39m\u001b[38;5;124mEngine should not be specified when passing \u001b[39m\u001b[38;5;124m\"\u001b[39m\n\u001b[0;32m    486\u001b[0m         \u001b[38;5;124m\"\u001b[39m\u001b[38;5;124man ExcelFile - ExcelFile already has the engine set\u001b[39m\u001b[38;5;124m\"\u001b[39m\n\u001b[0;32m    487\u001b[0m     )\n",
      "File \u001b[1;32m~\\anaconda3\\lib\\site-packages\\pandas\\io\\excel\\_base.py:1652\u001b[0m, in \u001b[0;36mExcelFile.__init__\u001b[1;34m(self, path_or_buffer, engine, storage_options)\u001b[0m\n\u001b[0;32m   1650\u001b[0m     ext \u001b[38;5;241m=\u001b[39m \u001b[38;5;124m\"\u001b[39m\u001b[38;5;124mxls\u001b[39m\u001b[38;5;124m\"\u001b[39m\n\u001b[0;32m   1651\u001b[0m \u001b[38;5;28;01melse\u001b[39;00m:\n\u001b[1;32m-> 1652\u001b[0m     ext \u001b[38;5;241m=\u001b[39m \u001b[43minspect_excel_format\u001b[49m\u001b[43m(\u001b[49m\n\u001b[0;32m   1653\u001b[0m \u001b[43m        \u001b[49m\u001b[43mcontent_or_path\u001b[49m\u001b[38;5;241;43m=\u001b[39;49m\u001b[43mpath_or_buffer\u001b[49m\u001b[43m,\u001b[49m\u001b[43m \u001b[49m\u001b[43mstorage_options\u001b[49m\u001b[38;5;241;43m=\u001b[39;49m\u001b[43mstorage_options\u001b[49m\n\u001b[0;32m   1654\u001b[0m \u001b[43m    \u001b[49m\u001b[43m)\u001b[49m\n\u001b[0;32m   1655\u001b[0m     \u001b[38;5;28;01mif\u001b[39;00m ext \u001b[38;5;129;01mis\u001b[39;00m \u001b[38;5;28;01mNone\u001b[39;00m:\n\u001b[0;32m   1656\u001b[0m         \u001b[38;5;28;01mraise\u001b[39;00m \u001b[38;5;167;01mValueError\u001b[39;00m(\n\u001b[0;32m   1657\u001b[0m             \u001b[38;5;124m\"\u001b[39m\u001b[38;5;124mExcel file format cannot be determined, you must specify \u001b[39m\u001b[38;5;124m\"\u001b[39m\n\u001b[0;32m   1658\u001b[0m             \u001b[38;5;124m\"\u001b[39m\u001b[38;5;124man engine manually.\u001b[39m\u001b[38;5;124m\"\u001b[39m\n\u001b[0;32m   1659\u001b[0m         )\n",
      "File \u001b[1;32m~\\anaconda3\\lib\\site-packages\\pandas\\io\\excel\\_base.py:1525\u001b[0m, in \u001b[0;36minspect_excel_format\u001b[1;34m(content_or_path, storage_options)\u001b[0m\n\u001b[0;32m   1522\u001b[0m \u001b[38;5;28;01mif\u001b[39;00m \u001b[38;5;28misinstance\u001b[39m(content_or_path, \u001b[38;5;28mbytes\u001b[39m):\n\u001b[0;32m   1523\u001b[0m     content_or_path \u001b[38;5;241m=\u001b[39m BytesIO(content_or_path)\n\u001b[1;32m-> 1525\u001b[0m \u001b[38;5;28;01mwith\u001b[39;00m \u001b[43mget_handle\u001b[49m\u001b[43m(\u001b[49m\n\u001b[0;32m   1526\u001b[0m \u001b[43m    \u001b[49m\u001b[43mcontent_or_path\u001b[49m\u001b[43m,\u001b[49m\u001b[43m \u001b[49m\u001b[38;5;124;43m\"\u001b[39;49m\u001b[38;5;124;43mrb\u001b[39;49m\u001b[38;5;124;43m\"\u001b[39;49m\u001b[43m,\u001b[49m\u001b[43m \u001b[49m\u001b[43mstorage_options\u001b[49m\u001b[38;5;241;43m=\u001b[39;49m\u001b[43mstorage_options\u001b[49m\u001b[43m,\u001b[49m\u001b[43m \u001b[49m\u001b[43mis_text\u001b[49m\u001b[38;5;241;43m=\u001b[39;49m\u001b[38;5;28;43;01mFalse\u001b[39;49;00m\n\u001b[0;32m   1527\u001b[0m \u001b[43m\u001b[49m\u001b[43m)\u001b[49m \u001b[38;5;28;01mas\u001b[39;00m handle:\n\u001b[0;32m   1528\u001b[0m     stream \u001b[38;5;241m=\u001b[39m handle\u001b[38;5;241m.\u001b[39mhandle\n\u001b[0;32m   1529\u001b[0m     stream\u001b[38;5;241m.\u001b[39mseek(\u001b[38;5;241m0\u001b[39m)\n",
      "File \u001b[1;32m~\\anaconda3\\lib\\site-packages\\pandas\\io\\common.py:865\u001b[0m, in \u001b[0;36mget_handle\u001b[1;34m(path_or_buf, mode, encoding, compression, memory_map, is_text, errors, storage_options)\u001b[0m\n\u001b[0;32m    856\u001b[0m         handle \u001b[38;5;241m=\u001b[39m \u001b[38;5;28mopen\u001b[39m(\n\u001b[0;32m    857\u001b[0m             handle,\n\u001b[0;32m    858\u001b[0m             ioargs\u001b[38;5;241m.\u001b[39mmode,\n\u001b[1;32m   (...)\u001b[0m\n\u001b[0;32m    861\u001b[0m             newline\u001b[38;5;241m=\u001b[39m\u001b[38;5;124m\"\u001b[39m\u001b[38;5;124m\"\u001b[39m,\n\u001b[0;32m    862\u001b[0m         )\n\u001b[0;32m    863\u001b[0m     \u001b[38;5;28;01melse\u001b[39;00m:\n\u001b[0;32m    864\u001b[0m         \u001b[38;5;66;03m# Binary mode\u001b[39;00m\n\u001b[1;32m--> 865\u001b[0m         handle \u001b[38;5;241m=\u001b[39m \u001b[38;5;28;43mopen\u001b[39;49m\u001b[43m(\u001b[49m\u001b[43mhandle\u001b[49m\u001b[43m,\u001b[49m\u001b[43m \u001b[49m\u001b[43mioargs\u001b[49m\u001b[38;5;241;43m.\u001b[39;49m\u001b[43mmode\u001b[49m\u001b[43m)\u001b[49m\n\u001b[0;32m    866\u001b[0m     handles\u001b[38;5;241m.\u001b[39mappend(handle)\n\u001b[0;32m    868\u001b[0m \u001b[38;5;66;03m# Convert BytesIO or file objects passed with an encoding\u001b[39;00m\n",
      "\u001b[1;31mFileNotFoundError\u001b[0m: [Errno 2] No such file or directory: 'C:\\\\Users\\\\Edwin\\\\Downloads\\\\waterwatch_clean2.xlsx'"
     ]
    }
   ],
   "source": [
    "df_suburbs = pd.read_excel('C:\\\\Users\\\\shaima\\\\Downloads\\\\waterwatch_clean2.xlsx', sheet_name='Sheet1')\n",
    "\n",
    "df_suburbs.head()"
   ]
  },
  {
   "cell_type": "code",
   "execution_count": null,
   "metadata": {},
   "outputs": [],
   "source": [
    "df_suburbs.columns"
   ]
  },
  {
   "cell_type": "code",
   "execution_count": null,
   "metadata": {},
   "outputs": [],
   "source": [
    "df_suburbs.shape"
   ]
  },
  {
   "cell_type": "code",
   "execution_count": null,
   "metadata": {},
   "outputs": [],
   "source": [
    "df_suburbs.describe()"
   ]
  },
  {
   "cell_type": "code",
   "execution_count": null,
   "metadata": {},
   "outputs": [],
   "source": [
    "map_osm = folium.Map(location=[-33.925, 18.625], zoom_start=10)\n",
    "map_osm"
   ]
  },
  {
   "cell_type": "code",
   "execution_count": null,
   "metadata": {},
   "outputs": [],
   "source": [
    "map_dark = folium.Map(location=[-33.925, 18.625], tiles='CartoDB dark_matter', zoom_start=10)\n",
    "map_dark"
   ]
  },
  {
   "cell_type": "code",
   "execution_count": null,
   "metadata": {},
   "outputs": [],
   "source": [
    "df_suburbs_locations = df_suburbs[['Latitude', 'Longitude']]\n",
    "#df_suburbs_locations\n",
    "suburbs_location_list = df_suburbs_locations.values.tolist()\n",
    "suburbs_location_list_size = len(suburbs_location_list)\n",
    "suburbs_location_list_size"
   ]
  },
  {
   "cell_type": "code",
   "execution_count": null,
   "metadata": {},
   "outputs": [],
   "source": [
    "for point in range(0, suburbs_location_list_size):\n",
    "    folium.Marker(suburbs_location_list[point]).add_to(map_osm)\n",
    "    folium.Marker(suburbs_location_list[point]).add_to(map_dark)\n",
    "    \n",
    "map_osm"
   ]
  },
  {
   "cell_type": "code",
   "execution_count": null,
   "metadata": {},
   "outputs": [],
   "source": [
    "map_dark"
   ]
  },
  {
   "cell_type": "code",
   "execution_count": null,
   "metadata": {
    "scrolled": true
   },
   "outputs": [],
   "source": [
    "for point in range(0, suburbs_location_list_size):\n",
    "    folium.Marker(suburbs_location_list[point], popup=df_suburbs['Suburb'][point]).add_to(map_osm)\n",
    "    folium.Marker(suburbs_location_list[point], popup=df_suburbs['Suburb'][point]).add_to(map_dark)\n",
    "    \n",
    "map_osm"
   ]
  },
  {
   "cell_type": "code",
   "execution_count": null,
   "metadata": {},
   "outputs": [],
   "source": [
    "map_dark"
   ]
  },
  {
   "cell_type": "code",
   "execution_count": null,
   "metadata": {},
   "outputs": [],
   "source": [
    "for point in range(0, suburbs_location_list_size):\n",
    "    folium.Marker(suburbs_location_list[point], popup=df_suburbs['Suburb'][point], icon=folium.Icon(color='darkblue', icon_color='white', icon='tint', angle=0, prefix='fa')).add_to(map_osm)\n",
    "    folium.Marker(suburbs_location_list[point], popup=df_suburbs['Suburb'][point], icon=folium.Icon(color='darkblue', icon_color='white', icon='tint', angle=0, prefix='fa')).add_to(map_dark)\n",
    "    \n",
    "map_osm"
   ]
  },
  {
   "cell_type": "code",
   "execution_count": null,
   "metadata": {},
   "outputs": [],
   "source": [
    "map_dark"
   ]
  },
  {
   "cell_type": "code",
   "execution_count": null,
   "metadata": {},
   "outputs": [],
   "source": [
    "# Classification\n",
    "for point in range(0, suburbs_location_list_size):\n",
    "    if df_suburbs['Oct 2017\\nkl/month'][point] < 5:\n",
    "        folium.Marker(suburbs_location_list[point], \n",
    "                      popup=df_suburbs['Suburb'][point], \n",
    "                      icon=folium.Icon(color='green', icon_color='white', icon='thumbs-up', angle=0, prefix='fa')).add_to(map_osm)\n",
    "        folium.Marker(suburbs_location_list[point], \n",
    "                      popup=df_suburbs['Suburb'][point], \n",
    "                      icon=folium.Icon(color='green', icon_color='white', icon='thumbs-up', angle=0, prefix='fa')).add_to(map_dark)\n",
    "    elif df_suburbs['Oct 2017\\nkl/month'][point] > 5 and df_suburbs['Oct 2017\\nkl/month'][point] <= 8:\n",
    "        folium.Marker(suburbs_location_list[point], \n",
    "                      popup=df_suburbs['Suburb'][point], \n",
    "                      icon=folium.Icon(color='blue', icon_color='white', icon='thumbs-up', angle=0, prefix='fa')).add_to(map_osm)\n",
    "        folium.Marker(suburbs_location_list[point], \n",
    "                      popup=df_suburbs['Suburb'][point], \n",
    "                      icon=folium.Icon(color='blue', icon_color='white', icon='thumbs-up', angle=0, prefix='fa')).add_to(map_dark)\n",
    "        \n",
    "    else:\n",
    "        folium.Marker(suburbs_location_list[point], \n",
    "                      popup=df_suburbs['Suburb'][point], \n",
    "                      icon=folium.Icon(color='red', icon_color='white', icon='thumbs-down', angle=0, prefix='fa')).add_to(map_osm)\n",
    "        folium.Marker(suburbs_location_list[point], \n",
    "                      popup=df_suburbs['Suburb'][point], \n",
    "                      icon=folium.Icon(color='red', icon_color='white', icon='thumbs-down', angle=0, prefix='fa')).add_to(map_dark)\n",
    "        \n",
    "\n",
    "map_osm"
   ]
  },
  {
   "cell_type": "code",
   "execution_count": null,
   "metadata": {},
   "outputs": [],
   "source": [
    "map_dark"
   ]
  },
  {
   "cell_type": "code",
   "execution_count": null,
   "metadata": {},
   "outputs": [],
   "source": [
    "map_points = folium.Map(location=[-33.925, 18.625], tiles='CartoDB dark_matter', zoom_start=10)\n",
    "\n",
    "for point in range(0, suburbs_location_list_size):\n",
    "    folium.Circle(\n",
    "        location=suburbs_location_list[point],\n",
    "        popup=df_suburbs['Suburb'][point] + ': ' + str(df_suburbs['Oct 2017\\nkl/month'][point]) + ' kL',\n",
    "        radius=str(df_suburbs['Oct 2017\\nkl/month'][point] * 100),\n",
    "        color='#17cbef',\n",
    "        fill=True,\n",
    "        opacity=0.8,\n",
    "        fill_color='#17cbef',\n",
    "        stroke=True,\n",
    "        weight=1.0\n",
    "    ).add_to(map_points)\n",
    "    \n",
    "map_points"
   ]
  },
  {
   "cell_type": "code",
   "execution_count": null,
   "metadata": {},
   "outputs": [],
   "source": [
    "# Adding Classification\n",
    "map_points = folium.Map(location=[-33.925, 18.625], tiles='CartoDB dark_matter', zoom_start=10)\n",
    "\n",
    "for point in range(0, suburbs_location_list_size):\n",
    "    # Classify by usage\n",
    "    if df_suburbs['Oct 2017\\nkl/month'][point] <= 8 and df_suburbs['Oct 2017\\nkl/month'][point] > 0:\n",
    "        usage_color = 'green'\n",
    "    elif df_suburbs['Oct 2017\\nkl/month'][point] > 8 and df_suburbs['Oct 2017\\nkl/month'][point] <= 10:\n",
    "        usage_color = '#17cbef'\n",
    "    elif df_suburbs['Oct 2017\\nkl/month'][point] > 10:\n",
    "        usage_color = 'red'\n",
    "    else: # Outliers\n",
    "        usage_color = 'orange'\n",
    "        \n",
    "    folium.Circle(\n",
    "        location=suburbs_location_list[point],\n",
    "        popup=df_suburbs['Suburb'][point] + ': ' + str(df_suburbs['Oct 2017\\nkl/month'][point]) + ' kL',\n",
    "        radius=str(df_suburbs['Oct 2017\\nkl/month'][point] * 100),\n",
    "        color=usage_color,\n",
    "        fill=True,\n",
    "        opacity=0.8,\n",
    "        fill_color=usage_color,\n",
    "        stroke=True,\n",
    "        weight=1.0\n",
    "    ).add_to(map_points)\n",
    "    \n",
    "map_points"
   ]
  },
  {
   "cell_type": "code",
   "execution_count": null,
   "metadata": {},
   "outputs": [],
   "source": [
    "# Building choropleth map\n",
    "\n",
    "df_world_countries = pd.read_json('C:\\\\Users\\\\shaima\\\\Downloads\\\\world-countries.json')\n",
    "df_unemployment = pd.read_csv('C:\\\\Users\\\\shaima\\\\Downloads\\\\unemployment.csv', skiprows=4, delimiter=',')\n",
    "\n",
    "df_unemployment"
   ]
  },
  {
   "cell_type": "code",
   "execution_count": null,
   "metadata": {},
   "outputs": [],
   "source": [
    "df_unemployment_2018 = df_unemployment[['Country Name', 'Country Code', '2018']]\n",
    "df_unemployment_2018.head(10)"
   ]
  },
  {
   "cell_type": "code",
   "execution_count": null,
   "metadata": {},
   "outputs": [],
   "source": [
    "# Remove nulls\n",
    "\n",
    "df_unemployment_2018_clean = df_unemployment_2018.dropna()\n",
    "df_unemployment_2018_clean.head(10)"
   ]
  },
  {
   "cell_type": "code",
   "execution_count": null,
   "metadata": {},
   "outputs": [],
   "source": [
    "df_unemployment_2018_clean.shape"
   ]
  },
  {
   "cell_type": "code",
   "execution_count": null,
   "metadata": {},
   "outputs": [],
   "source": [
    "# prepare data for our map\n",
    "legendTitle = 'Unemployment rate per country 2018 (%)'\n",
    "\n",
    "# Data to plot country code and value\n",
    "data_unemployment = df_unemployment_2018_clean[['Country Code', '2018']]\n",
    "\n",
    "data_unemployment.head()"
   ]
  },
  {
   "cell_type": "code",
   "execution_count": null,
   "metadata": {},
   "outputs": [],
   "source": [
    "# Setup the map\n",
    "map_unemployment = folium.Map(location=[8.7832, 34.5085], zoom_start=3)\n",
    "\n",
    "map_unemployment.choropleth(geo_data='C:\\\\Users\\\\shaima\\\\Downloads\\\\world-countries.json',\n",
    "                           data=data_unemployment,\n",
    "                           columns=['Country Code', '2018'],\n",
    "                           key_on='feature.id',\n",
    "                           fill_color='YlOrRd',\n",
    "                           fill_opacity=0.7,\n",
    "                           line_opacity=0.2,\n",
    "                           legend_name=legendTitle)\n",
    "\n",
    "map_unemployment"
   ]
  },
  {
   "cell_type": "code",
   "execution_count": null,
   "metadata": {},
   "outputs": [],
   "source": [
    "# Measuring Boundries\n",
    "\n",
    "df_damLevels = pd.read_csv('https://raw.githubusercontent.com/EBISYS/Mapping-Dam-Levels/master/DamLevels.txt', delimiter=',')\n",
    "\n",
    "df_damLevels.head()"
   ]
  },
  {
   "cell_type": "code",
   "execution_count": null,
   "metadata": {},
   "outputs": [],
   "source": [
    "df_location = pd.read_csv('https://raw.githubusercontent.com/EBISYS/Mapping-Dam-Levels/master/damLocations.txt', delimiter=',')\n",
    "\n",
    "df_location.head()"
   ]
  },
  {
   "cell_type": "code",
   "execution_count": null,
   "metadata": {},
   "outputs": [],
   "source": [
    "# Join the two dataframes on the dam field\n",
    "df_damData = pd.merge(df_damLevels, df_location, on='Dam', how='left')\n",
    "\n",
    "df_damData.head()"
   ]
  },
  {
   "cell_type": "code",
   "execution_count": null,
   "metadata": {},
   "outputs": [],
   "source": [
    "# Prepare data to plot\n",
    "df_dams_locations = df_damData[['Latitude', 'Longitude']]\n",
    "dams_location_list = df_dams_locations.values.tolist()\n",
    "dams_location_list_size = len(dams_location_list)\n",
    "dams_location_list_size"
   ]
  },
  {
   "cell_type": "code",
   "execution_count": null,
   "metadata": {},
   "outputs": [],
   "source": [
    "map_dams = folium.Map(location=[-33.925, 18.625], zoom_start=10)\n",
    "for point in range(0, dams_location_list_size):\n",
    "    folium.Marker(dams_location_list[point], popup=df_damData['Dam'][point]).add_to(map_dams)\n",
    "    \n",
    "map_dams"
   ]
  },
  {
   "cell_type": "code",
   "execution_count": null,
   "metadata": {},
   "outputs": [],
   "source": [
    "map_url = folium.Map(location=[-34.078100, 19.289200],\n",
    "                    tiles='http://services.arcgisonline.com/ArcGIS/rest/services/World_Imagery/MapServer/tile/{z}/{y}/{x}',\n",
    "                    zoom_start=12,\n",
    "                    attr='Tiles &copy; Esri &mdash; Source: Esri, i-cubed, USDA, USGS, AEX, GeoEye, Getmapping, Aerogrid, IGN, IGP, UPR-EGP, and the GIS User Community')\n",
    "\n",
    "for point in range(0, dams_location_list_size):\n",
    "    folium.Marker(dams_location_list[point], popup=df_damData['Dam'][point]).add_to(map_url)\n",
    "\n",
    "map_url"
   ]
  },
  {
   "cell_type": "code",
   "execution_count": null,
   "metadata": {},
   "outputs": [],
   "source": [
    "from folium.plugins import MeasureControl\n",
    "\n",
    "map_url.add_child(MeasureControl())\n",
    "\n",
    "map_url"
   ]
  },
  {
   "cell_type": "code",
   "execution_count": null,
   "metadata": {},
   "outputs": [],
   "source": [
    "# Add Layer Control\n",
    "map_layers = map_points\n",
    "\n",
    "add = '/MapServer/tile/{z}/{y}/{x}'\n",
    "ESRI = dict(World_Ocean_Base='http://services.arcgisonline.com/arcgis/rest/services/Ocean/World_Ocean_Base',\n",
    "            World_Navigation_Charts='http://services.arcgisonline.com/ArcGIS/rest/services/Specialty/World_Navigation_Charts',\n",
    "            NatGeo_World_Map='http://services.arcgisonline.com/arcgis/rest/services/NatGeo_World_Map/MapServer',\n",
    "            World_Imagery='http://services.arcgisonline.com/arcgis/rest/services/World_Imagery/MapServer',\n",
    "            World_Physical_Map='http://services.arcgisonline.com/arcgis/rest/services/World_Physical_Map/MapServer',\n",
    "            World_Shaded_Relief='http://services.arcgisonline.com/arcgis/rest/services/World_Shaded_Relief/MapServer',\n",
    "            World_Street_Map='http://services.arcgisonline.com/arcgis/rest/services/World_Street_Map/MapServer',\n",
    "            World_Terrain_Base='http://services.arcgisonline.com/arcgis/rest/services/World_Terrain_Base/MapServer',\n",
    "            World_Topo_Map='http://services.arcgisonline.com/arcgis/rest/services/World_Topo_Map/MapServer')\n",
    "\n",
    "\n",
    "for tile_name, tile_url in ESRI.items():\n",
    "    tile_url += add\n",
    "    folium.TileLayer(tile_url,\n",
    "                    name=tile_name,\n",
    "                    attr='Tiles &copy; Esri &mdash; Source: Esri, i-cubed, USDA, USGS, AEX, GeoEye, Getmapping, Aerogrid, IGN, IGP, UPR-EGP, and the GIS User Community').add_to(map_points)\n",
    "    \n",
    "\n",
    "folium.LayerControl().add_to(map_layers)\n",
    "\n",
    "map_layers"
   ]
  },
  {
   "cell_type": "code",
   "execution_count": null,
   "metadata": {},
   "outputs": [],
   "source": [
    "# Creating Heatmap\n",
    "\n",
    "from folium.plugins import HeatMap\n",
    "\n",
    "# Create our point map object\n",
    "map_heat = folium.Map(location=[-33.925, 18.625], tiles='CartoDB dark_matter', zoom_start=10)\n",
    "\n",
    "for point in range(0, suburbs_location_list_size):\n",
    "    folium.Circle(\n",
    "        location=suburbs_location_list[point],\n",
    "        popup=df_suburbs['Suburb'][point] + ': ' + str(df_suburbs['Oct 2017\\nkl/month'][point]) + ' kL',\n",
    "        radius='15',\n",
    "        color='#17cbef',\n",
    "        fill=True,\n",
    "        opacity=0.8,\n",
    "        fill_color='#17cbef',\n",
    "        stroke=True,\n",
    "        weight=1.0\n",
    "    ).add_to(map_heat)\n",
    "    \n",
    "# convert to array format for our heatmap\n",
    "suburbsArray = df_suburbs[['Latitude', 'Longitude']].values\n",
    "\n",
    "# plot heatmap\n",
    "map_heat.add_child(HeatMap(suburbsArray))\n",
    "\n",
    "map_heat"
   ]
  },
  {
   "cell_type": "code",
   "execution_count": null,
   "metadata": {},
   "outputs": [],
   "source": [
    "!pip install selenium"
   ]
  },
  {
   "cell_type": "code",
   "execution_count": null,
   "metadata": {},
   "outputs": [],
   "source": [
    "import os\n",
    "import time\n",
    "from selenium import webdriver"
   ]
  },
  {
   "cell_type": "code",
   "execution_count": null,
   "metadata": {},
   "outputs": [],
   "source": [
    "delay = 5\n",
    "\n",
    "heat = 'map_heat.html'\n",
    "unemployment = 'map_unemployment.html'\n",
    "\n",
    "def export_maps(map_file, map_image, map_obj):\n",
    "    browser = webdriver.Chrome('C:\\\\Users\\\\shaima\\\\Downloads\\\\chromedriver_win32\\\\chromedriver.exe')\n",
    "    tmpUrl = 'file://{path}/{mapfile}'.format(path=os.getcwd(), mapfile=map_file)\n",
    "    map_obj.save(map_file)\n",
    "    browser.get(tmpUrl)\n",
    "    time.sleep(delay)\n",
    "    browser.save_screenshot(map_image)\n",
    "    browser.quit()\n",
    "    \n",
    "export_maps(heat, 'map_heat.png', map_heat)\n"
   ]
  },
  {
   "cell_type": "code",
   "execution_count": null,
   "metadata": {},
   "outputs": [],
   "source": [
    "export_maps(unemployment, 'map_unemployment.png', map_unemployment)"
   ]
  },
  {
   "cell_type": "code",
   "execution_count": null,
   "metadata": {},
   "outputs": [],
   "source": []
  },
  {
   "cell_type": "code",
   "execution_count": null,
   "metadata": {},
   "outputs": [],
   "source": []
  }
 ],
 "metadata": {
  "kernelspec": {
   "display_name": "Python 3 (ipykernel)",
   "language": "python",
   "name": "python3"
  },
  "language_info": {
   "codemirror_mode": {
    "name": "ipython",
    "version": 3
   },
   "file_extension": ".py",
   "mimetype": "text/x-python",
   "name": "python",
   "nbconvert_exporter": "python",
   "pygments_lexer": "ipython3",
   "version": "3.9.16"
  }
 },
 "nbformat": 4,
 "nbformat_minor": 2
}
